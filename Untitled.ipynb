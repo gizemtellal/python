{
  "metadata": {
    "language_info": {
      "codemirror_mode": {
        "name": "python",
        "version": 3
      },
      "file_extension": ".py",
      "mimetype": "text/x-python",
      "name": "python",
      "nbconvert_exporter": "python",
      "pygments_lexer": "ipython3",
      "version": "3.8"
    },
    "kernelspec": {
      "name": "python",
      "display_name": "Python (Pyodide)",
      "language": "python"
    }
  },
  "nbformat_minor": 4,
  "nbformat": 4,
  "cells": [
    {
      "cell_type": "markdown",
      "source": "# Pyhton ile Matematiksel İşlemler",
      "metadata": {}
    },
    {
      "cell_type": "markdown",
      "source": "# 1. Toplama İşlemi",
      "metadata": {}
    },
    {
      "cell_type": "markdown",
      "source": "Pyton matematiksel işlemleri çok hızlı bir şekilde yapabilen bir yazılım dilidir. Bu örnekte bir toplama işlemi yapacağız.",
      "metadata": {}
    },
    {
      "cell_type": "markdown",
      "source": "# MERHABA PYHTON",
      "metadata": {}
    },
    {
      "cell_type": "code",
      "source": "a = 16\nb = 12\na + b",
      "metadata": {
        "trusted": true
      },
      "execution_count": null,
      "outputs": []
    },
    {
      "cell_type": "markdown",
      "source": "# 2. Çıkarma İşlemi",
      "metadata": {}
    },
    {
      "cell_type": "code",
      "source": "X = 2\nY = -12\nX - Y",
      "metadata": {
        "trusted": true
      },
      "execution_count": null,
      "outputs": []
    },
    {
      "cell_type": "markdown",
      "source": "# 3. Bölme İşlemi",
      "metadata": {}
    },
    {
      "cell_type": "code",
      "source": "a = 213\nb = 7\na // b\n",
      "metadata": {
        "trusted": true
      },
      "execution_count": null,
      "outputs": []
    },
    {
      "cell_type": "markdown",
      "source": "# 4. Kalanı Bulma",
      "metadata": {}
    },
    {
      "cell_type": "code",
      "source": "a = 911\nb = 13\na % b",
      "metadata": {
        "trusted": true
      },
      "execution_count": null,
      "outputs": []
    },
    {
      "cell_type": "markdown",
      "source": "# 5. Üs Bulma",
      "metadata": {}
    },
    {
      "cell_type": "code",
      "source": "a = 69\nb = 4\na ** b",
      "metadata": {
        "trusted": true
      },
      "execution_count": null,
      "outputs": []
    },
    {
      "cell_type": "markdown",
      "source": "# 6. İşlem Önceliği",
      "metadata": {}
    },
    {
      "cell_type": "code",
      "source": "17 + (-8) - 26 // 2",
      "metadata": {
        "trusted": true
      },
      "execution_count": null,
      "outputs": []
    },
    {
      "cell_type": "code",
      "source": "14 - 29 + ( -258 ) * 3",
      "metadata": {
        "trusted": true
      },
      "execution_count": null,
      "outputs": []
    },
    {
      "cell_type": "code",
      "source": "",
      "metadata": {},
      "execution_count": null,
      "outputs": []
    }
  ]
}