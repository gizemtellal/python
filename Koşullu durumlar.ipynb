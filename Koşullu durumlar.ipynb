{
 "cells": [
  {
   "cell_type": "markdown",
   "id": "3ed80ce6",
   "metadata": {},
   "source": [
    "# KOŞULLU DURUMLAR"
   ]
  },
  {
   "cell_type": "code",
   "execution_count": 3,
   "id": "159b816d",
   "metadata": {},
   "outputs": [
    {
     "name": "stdout",
     "output_type": "stream",
     "text": [
      "Yaşınızı giriniz:15\n",
      "Bu mekana giremezsiniz.\n"
     ]
    }
   ],
   "source": [
    "yaş = int(input(\"Yaşınızı giriniz:\"))\n",
    "\n",
    "if (yaş < 18):\n",
    "        # if bloğu - Girinti ile sağlanıyor.\n",
    "        print( \"Bu mekana giremezsiniz.\")"
   ]
  },
  {
   "cell_type": "markdown",
   "id": "f202ad9d",
   "metadata": {},
   "source": [
    "# 18 Yaş kontrolü"
   ]
  },
  {
   "cell_type": "code",
   "execution_count": 4,
   "id": "76cf5a56",
   "metadata": {},
   "outputs": [
    {
     "name": "stdout",
     "output_type": "stream",
     "text": [
      "Yaşınızı giriniz:70\n",
      "Oy kullanamazsınız.\n"
     ]
    }
   ],
   "source": [
    "yaş = int(input(\"Yaşınızı giriniz:\"))\n",
    "\n",
    "if (yaş > 65):\n",
    "        print( \"Oy kullanamazsınız.\")\n",
    "        "
   ]
  },
  {
   "cell_type": "code",
   "execution_count": 14,
   "id": "d7ebb19c",
   "metadata": {},
   "outputs": [
    {
     "ename": "SyntaxError",
     "evalue": "invalid syntax (2318717567.py, line 6)",
     "output_type": "error",
     "traceback": [
      "\u001b[1;36m  File \u001b[1;32m\"C:\\Users\\BT-101\\AppData\\Local\\Temp\\ipykernel_10872\\2318717567.py\"\u001b[1;36m, line \u001b[1;32m6\u001b[0m\n\u001b[1;33m    print(\"Hosgeldiniz.\"):\u001b[0m\n\u001b[1;37m                          ^\u001b[0m\n\u001b[1;31mSyntaxError\u001b[0m\u001b[1;31m:\u001b[0m invalid syntax\n"
     ]
    }
   ],
   "source": [
    "yaş = int(input(\"Yaşınızı giriniz.\"))\n",
    "if (yaş > 18):\n",
    "        print (\"Bu mekana giremezsiniz.\")\n",
    "\n",
    "else:\n",
    "        print(\"Hosgeldiniz.\"):"
   ]
  },
  {
   "cell_type": "code",
   "execution_count": null,
   "id": "6e571cf2",
   "metadata": {},
   "outputs": [],
   "source": []
  }
 ],
 "metadata": {
  "kernelspec": {
   "display_name": "Python 3 (ipykernel)",
   "language": "python",
   "name": "python3"
  },
  "language_info": {
   "codemirror_mode": {
    "name": "ipython",
    "version": 3
   },
   "file_extension": ".py",
   "mimetype": "text/x-python",
   "name": "python",
   "nbconvert_exporter": "python",
   "pygments_lexer": "ipython3",
   "version": "3.9.13"
  }
 },
 "nbformat": 4,
 "nbformat_minor": 5
}
