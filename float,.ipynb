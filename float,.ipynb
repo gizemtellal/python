{
 "cells": [
  {
   "cell_type": "markdown",
   "id": "d23590e7",
   "metadata": {},
   "source": [
    "# LİSTELER"
   ]
  },
  {
   "cell_type": "markdown",
   "id": "066a71c1",
   "metadata": {},
   "source": [
    "Bu bölümde yapacağımız işlemler şunlardır.\n",
    "   1. Liste oluşturma\n",
    "   2. İndeksleme ve parçalama\n",
    "   3. Temel Liste Metodlar ve İşlemleri\n",
    "   4. İç içe listeler"
   ]
  },
  {
   "cell_type": "markdown",
   "id": "e0d246eb",
   "metadata": {},
   "source": [
    "## Liste Oluşturma"
   ]
  },
  {
   "cell_type": "code",
   "execution_count": 10,
   "id": "bbc1d964",
   "metadata": {},
   "outputs": [
    {
     "data": {
      "text/plain": [
       "['elma', 'mandalina', 'karpuz', 'kiraz', 'muz', 'çilek']"
      ]
     },
     "execution_count": 10,
     "metadata": {},
     "output_type": "execute_result"
    }
   ],
   "source": [
    "Meyveler=[\"elma\",\"mandalina\",\"karpuz\",\"kiraz\",\"muz\",\"çilek\"]\n",
    "Meyveler"
   ]
  },
  {
   "cell_type": "code",
   "execution_count": 11,
   "id": "e04e134b",
   "metadata": {},
   "outputs": [
    {
     "data": {
      "text/plain": [
       "['1', '2', '3', '4']"
      ]
     },
     "execution_count": 11,
     "metadata": {},
     "output_type": "execute_result"
    }
   ],
   "source": [
    "Sayilar=[\"1\",\"2\",\"3\",\"4\"]\n",
    "Sayilar"
   ]
  },
  {
   "cell_type": "code",
   "execution_count": 12,
   "id": "d62bf3b2",
   "metadata": {},
   "outputs": [
    {
     "data": {
      "text/plain": [
       "[]"
      ]
     },
     "execution_count": 12,
     "metadata": {},
     "output_type": "execute_result"
    }
   ],
   "source": [
    "[]"
   ]
  },
  {
   "cell_type": "code",
   "execution_count": 13,
   "id": "c848d124",
   "metadata": {},
   "outputs": [
    {
     "data": {
      "text/plain": [
       "['M', 'e', 'r', 'h', 'a', 'b', 'a']"
      ]
     },
     "execution_count": 13,
     "metadata": {},
     "output_type": "execute_result"
    }
   ],
   "source": [
    "s = \"Merhaba\"\n",
    "lst = list(s)\n",
    "lst"
   ]
  },
  {
   "cell_type": "code",
   "execution_count": 14,
   "id": "f9c20ed8",
   "metadata": {},
   "outputs": [
    {
     "data": {
      "text/plain": [
       "4"
      ]
     },
     "execution_count": 14,
     "metadata": {},
     "output_type": "execute_result"
    }
   ],
   "source": [
    "# len (Ulaşım Araçları)\n",
    "liste3 = [\"uçak\",\"gemi\",\"otomobil\",\"tren\"]\n",
    "len  (liste3)"
   ]
  },
  {
   "cell_type": "code",
   "execution_count": 15,
   "id": "97105ac8",
   "metadata": {},
   "outputs": [
    {
     "data": {
      "text/plain": [
       "'gemi'"
      ]
     },
     "execution_count": 15,
     "metadata": {},
     "output_type": "execute_result"
    }
   ],
   "source": [
    "liste3 [1]"
   ]
  },
  {
   "cell_type": "code",
   "execution_count": 16,
   "id": "42803501",
   "metadata": {},
   "outputs": [
    {
     "data": {
      "text/plain": [
       "'uçak'"
      ]
     },
     "execution_count": 16,
     "metadata": {},
     "output_type": "execute_result"
    }
   ],
   "source": [
    "liste3 [0]"
   ]
  },
  {
   "cell_type": "code",
   "execution_count": 17,
   "id": "60ca6de7",
   "metadata": {},
   "outputs": [
    {
     "data": {
      "text/plain": [
       "'otomobil'"
      ]
     },
     "execution_count": 17,
     "metadata": {},
     "output_type": "execute_result"
    }
   ],
   "source": [
    "liste3 [2]"
   ]
  },
  {
   "cell_type": "code",
   "execution_count": 18,
   "id": "5eeff954",
   "metadata": {},
   "outputs": [
    {
     "data": {
      "text/plain": [
       "'tren'"
      ]
     },
     "execution_count": 18,
     "metadata": {},
     "output_type": "execute_result"
    }
   ],
   "source": [
    "liste3 [3]"
   ]
  },
  {
   "cell_type": "code",
   "execution_count": 19,
   "id": "07ae2618",
   "metadata": {},
   "outputs": [
    {
     "name": "stdout",
     "output_type": "stream",
     "text": [
      "Lütfen bir sayı giriniz:25\n"
     ]
    },
    {
     "data": {
      "text/plain": [
       "'25'"
      ]
     },
     "execution_count": 19,
     "metadata": {},
     "output_type": "execute_result"
    }
   ],
   "source": [
    "input(\"Lütfen bir sayı giriniz:\")"
   ]
  },
  {
   "cell_type": "code",
   "execution_count": null,
   "id": "f099af07",
   "metadata": {},
   "outputs": [],
   "source": [
    "a =input(\"Lütfen bir sayı giriniz.\") # Kullanıcıdan aldığımız değer a değişkeni\n",
    "print (\"Kullanıcının aldığı değer:\",a)"
   ]
  },
  {
   "cell_type": "code",
   "execution_count": 24,
   "id": "07aa401f",
   "metadata": {},
   "outputs": [
    {
     "name": "stdout",
     "output_type": "stream",
     "text": [
      "Birinci Sayı:57\n",
      "İkinci Sayı:84\n",
      "Üçüncü Sayı:91\n",
      "Toplamları: 77\n"
     ]
    }
   ],
   "source": [
    "a = int(input(\"Birinci Sayı:\"))\n",
    "b = int(input(\"İkinci Sayı:\"))\n",
    "c = int(input(\"Üçüncü Sayı:\"))\n",
    "print(\"Toplamları:\", (a+b+c)//3)"
   ]
  },
  {
   "cell_type": "code",
   "execution_count": 25,
   "id": "41359028",
   "metadata": {},
   "outputs": [
    {
     "name": "stdout",
     "output_type": "stream",
     "text": [
      "Merhaba\n",
      "Nasılsın\n",
      "İyi misin\n"
     ]
    }
   ],
   "source": [
    "print(\"Merhaba\\nNasılsın\\nİyi misin\")"
   ]
  },
  {
   "cell_type": "code",
   "execution_count": 26,
   "id": "5a83407f",
   "metadata": {},
   "outputs": [
    {
     "name": "stdout",
     "output_type": "stream",
     "text": [
      "Korkma sönmez bu şafaklarda yüzen al sancak\n",
      "Sönmeden yurdumun üstünde tüten en son ocak\n"
     ]
    }
   ],
   "source": [
    "print(\"Korkma sönmez bu şafaklarda yüzen al sancak\\nSönmeden yurdumun üstünde tüten en son ocak\")"
   ]
  },
  {
   "cell_type": "code",
   "execution_count": 27,
   "id": "ba62e88f",
   "metadata": {},
   "outputs": [
    {
     "name": "stdout",
     "output_type": "stream",
     "text": [
      "O benim milletimin yıldızıdır parlayacak\n",
      "O benimdir o benim milletimindir ancak\n"
     ]
    }
   ],
   "source": [
    "print(\"O benim milletimin yıldızıdır parlayacak\\nO benimdir o benim milletimindir ancak\")"
   ]
  },
  {
   "cell_type": "code",
   "execution_count": 29,
   "id": "d16c9c24",
   "metadata": {},
   "outputs": [
    {
     "name": "stdout",
     "output_type": "stream",
     "text": [
      "Marmara Bölgesindeki şehirler\n",
      "Edirne\tKirklareli\tÇanakkale\tTekirdağ\n"
     ]
    }
   ],
   "source": [
    "print(\"Marmara Bölgesindeki şehirler\\nEdirne\\tKirklareli\\tÇanakkale\\tTekirdağ\")"
   ]
  },
  {
   "cell_type": "code",
   "execution_count": 30,
   "id": "9a09b7cc",
   "metadata": {},
   "outputs": [
    {
     "name": "stdout",
     "output_type": "stream",
     "text": [
      "<class 'int'>\n"
     ]
    }
   ],
   "source": [
    "a = 65\n",
    "print(type(a))"
   ]
  },
  {
   "cell_type": "code",
   "execution_count": 32,
   "id": "8753e505",
   "metadata": {},
   "outputs": [
    {
     "name": "stdout",
     "output_type": "stream",
     "text": [
      "16.4.1990\n"
     ]
    }
   ],
   "source": [
    "print(16,4,1990,sep =\".\")"
   ]
  },
  {
   "cell_type": "code",
   "execution_count": 39,
   "id": "f636c3d0",
   "metadata": {},
   "outputs": [
    {
     "name": "stdout",
     "output_type": "stream",
     "text": [
      "G\n",
      "i\n",
      "z\n",
      "e\n",
      "m\n"
     ]
    }
   ],
   "source": [
    "print(*\"Gizem\",sep  = \"\\n\")"
   ]
  },
  {
   "cell_type": "code",
   "execution_count": 44,
   "id": "712ae738",
   "metadata": {},
   "outputs": [
    {
     "data": {
      "text/plain": [
       "45.0"
      ]
     },
     "execution_count": 44,
     "metadata": {},
     "output_type": "execute_result"
    }
   ],
   "source": [
    "a=45\n",
    "float(45)"
   ]
  },
  {
   "cell_type": "code",
   "execution_count": 43,
   "id": "22ac3dfb",
   "metadata": {},
   "outputs": [
    {
     "data": {
      "text/plain": [
       "-1.0"
      ]
     },
     "execution_count": 43,
     "metadata": {},
     "output_type": "execute_result"
    }
   ],
   "source": [
    "float(-1)"
   ]
  },
  {
   "cell_type": "code",
   "execution_count": 46,
   "id": "8baae924",
   "metadata": {},
   "outputs": [
    {
     "data": {
      "text/plain": [
       "'17458962359'"
      ]
     },
     "execution_count": 46,
     "metadata": {},
     "output_type": "execute_result"
    }
   ],
   "source": [
    "a=17458962359\n",
    "b= str(a)\n",
    "b\n"
   ]
  },
  {
   "cell_type": "code",
   "execution_count": null,
   "id": "db935fc6",
   "metadata": {},
   "outputs": [],
   "source": []
  }
 ],
 "metadata": {
  "kernelspec": {
   "display_name": "Python 3 (ipykernel)",
   "language": "python",
   "name": "python3"
  },
  "language_info": {
   "codemirror_mode": {
    "name": "ipython",
    "version": 3
   },
   "file_extension": ".py",
   "mimetype": "text/x-python",
   "name": "python",
   "nbconvert_exporter": "python",
   "pygments_lexer": "ipython3",
   "version": "3.9.13"
  }
 },
 "nbformat": 4,
 "nbformat_minor": 5
}
