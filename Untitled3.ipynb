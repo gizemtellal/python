{
 "cells": [
  {
   "cell_type": "markdown",
   "id": "61b9e188",
   "metadata": {},
   "source": [
    "# İf- elif- else koşullu durumları"
   ]
  },
  {
   "cell_type": "code",
   "execution_count": 2,
   "id": "8b3628cf",
   "metadata": {},
   "outputs": [
    {
     "name": "stdout",
     "output_type": "stream",
     "text": [
      "İşlem seçiniz:3\n",
      "3. işlem seçildi.\n"
     ]
    }
   ],
   "source": [
    "işlem = int(input(\"İşlem seçiniz:\n",
    "elif işlem == 3:\n",
    "        print(\"3. işlem seçildi.\")\n",
    "else:\n",
    "        print(\"Geçersiz işlem.\")"
   ]
  },
  {
   "cell_type": "markdown",
   "id": "ee9aa3b7",
   "metadata": {},
   "source": [
    "# Mantıksal Bağlaçlar"
   ]
  },
  {
   "cell_type": "markdown",
   "id": "4bb6ee82",
   "metadata": {},
   "source": [
    "### and Operatörü"
   ]
  },
  {
   "cell_type": "code",
   "execution_count": 3,
   "id": "0f917083",
   "metadata": {},
   "outputs": [
    {
     "data": {
      "text/plain": [
       "True"
      ]
     },
     "execution_count": 3,
     "metadata": {},
     "output_type": "execute_result"
    }
   ],
   "source": [
    "1 < 2 and \"Murat\" == \"Murat\""
   ]
  },
  {
   "cell_type": "code",
   "execution_count": 4,
   "id": "da2f6903",
   "metadata": {},
   "outputs": [
    {
     "data": {
      "text/plain": [
       "False"
      ]
     },
     "execution_count": 4,
     "metadata": {},
     "output_type": "execute_result"
    }
   ],
   "source": [
    "2 > 3 and \"Murat\" == \"Murat\""
   ]
  },
  {
   "cell_type": "markdown",
   "id": "23cf217d",
   "metadata": {},
   "source": [
    "### or Operatörü"
   ]
  },
  {
   "cell_type": "code",
   "execution_count": 7,
   "id": "c4887eaf",
   "metadata": {},
   "outputs": [
    {
     "data": {
      "text/plain": [
       "True"
      ]
     },
     "execution_count": 7,
     "metadata": {},
     "output_type": "execute_result"
    }
   ],
   "source": [
    "1 < 2 or \"Murat\" != \"Murat\""
   ]
  },
  {
   "cell_type": "code",
   "execution_count": 8,
   "id": "8456c3d1",
   "metadata": {},
   "outputs": [
    {
     "data": {
      "text/plain": [
       "False"
      ]
     },
     "execution_count": 8,
     "metadata": {},
     "output_type": "execute_result"
    }
   ],
   "source": [
    "2 > 3 or \"Murat\" != \"Murat\""
   ]
  },
  {
   "cell_type": "code",
   "execution_count": 10,
   "id": "253810f7",
   "metadata": {},
   "outputs": [
    {
     "data": {
      "text/plain": [
       "True"
      ]
     },
     "execution_count": 10,
     "metadata": {},
     "output_type": "execute_result"
    }
   ],
   "source": [
    "2 > 3 or \"Murat\" != \"Murat\" or 3.14 < 4.17"
   ]
  },
  {
   "cell_type": "markdown",
   "id": "ada155dd",
   "metadata": {},
   "source": [
    "### not Operatörü"
   ]
  },
  {
   "cell_type": "code",
   "execution_count": 11,
   "id": "094a426c",
   "metadata": {},
   "outputs": [
    {
     "data": {
      "text/plain": [
       "False"
      ]
     },
     "execution_count": 11,
     "metadata": {},
     "output_type": "execute_result"
    }
   ],
   "source": [
    "not 2 == 2\n"
   ]
  },
  {
   "cell_type": "code",
   "execution_count": 12,
   "id": "e5411ab5",
   "metadata": {},
   "outputs": [
    {
     "data": {
      "text/plain": [
       "True"
      ]
     },
     "execution_count": 12,
     "metadata": {},
     "output_type": "execute_result"
    }
   ],
   "source": [
    "not \"Python\" == \"Pyt\""
   ]
  },
  {
   "cell_type": "code",
   "execution_count": 13,
   "id": "27ec578a",
   "metadata": {},
   "outputs": [
    {
     "data": {
      "text/plain": [
       "True"
      ]
     },
     "execution_count": 13,
     "metadata": {},
     "output_type": "execute_result"
    }
   ],
   "source": [
    "not \"Elvan\" == \"Gizem\""
   ]
  },
  {
   "cell_type": "markdown",
   "id": "1651fd2e",
   "metadata": {},
   "source": [
    "###  in Operatörü"
   ]
  },
  {
   "cell_type": "code",
   "execution_count": 14,
   "id": "a40f8eff",
   "metadata": {},
   "outputs": [
    {
     "data": {
      "text/plain": [
       "True"
      ]
     },
     "execution_count": 14,
     "metadata": {},
     "output_type": "execute_result"
    }
   ],
   "source": [
    "\"a\" in \"merhaba\""
   ]
  },
  {
   "cell_type": "code",
   "execution_count": 15,
   "id": "be0f7005",
   "metadata": {},
   "outputs": [
    {
     "data": {
      "text/plain": [
       "True"
      ]
     },
     "execution_count": 15,
     "metadata": {},
     "output_type": "execute_result"
    }
   ],
   "source": [
    "\"iz\" in \"Gizem\""
   ]
  },
  {
   "cell_type": "code",
   "execution_count": 16,
   "id": "5a2897ba",
   "metadata": {},
   "outputs": [
    {
     "data": {
      "text/plain": [
       "True"
      ]
     },
     "execution_count": 16,
     "metadata": {},
     "output_type": "execute_result"
    }
   ],
   "source": [
    "4 in [1,2,3,4,5]"
   ]
  },
  {
   "cell_type": "markdown",
   "id": "8ec0e58a",
   "metadata": {},
   "source": [
    "###  for Döngüleri"
   ]
  },
  {
   "cell_type": "code",
   "execution_count": 21,
   "id": "0715c2c1",
   "metadata": {},
   "outputs": [
    {
     "name": "stdout",
     "output_type": "stream",
     "text": [
      "2\n",
      "4\n",
      "6\n",
      "8\n"
     ]
    }
   ],
   "source": [
    "liste = [1,2,3,4,5,6,7,8,9]\n",
    "\n",
    "for eleman in liste:\n",
    "    if eleman %2 == 0:\n",
    "        print(eleman)"
   ]
  },
  {
   "cell_type": "code",
   "execution_count": 24,
   "id": "97629d69",
   "metadata": {},
   "outputs": [
    {
     "data": {
      "text/plain": [
       "<_io.TextIOWrapper name='döngüler' mode='w' encoding='cp1254'>"
      ]
     },
     "execution_count": 24,
     "metadata": {},
     "output_type": "execute_result"
    }
   ],
   "source": [
    "open (\"C:\\flowTurk\",\"w\")"
   ]
  },
  {
   "cell_type": "code",
   "execution_count": 25,
   "id": "743047c6",
   "metadata": {},
   "outputs": [],
   "source": [
    "file = open(\"C:\\flowTurk\",\"w\", encoding=\"utf-8\")"
   ]
  },
  {
   "cell_type": "code",
   "execution_count": 26,
   "id": "72bf2b96",
   "metadata": {},
   "outputs": [
    {
     "data": {
      "text/plain": [
       "14"
      ]
     },
     "execution_count": 26,
     "metadata": {},
     "output_type": "execute_result"
    }
   ],
   "source": [
    "file.write(\"Merhaba Yağmur\")"
   ]
  },
  {
   "cell_type": "code",
   "execution_count": 33,
   "id": "51fc18a2",
   "metadata": {},
   "outputs": [],
   "source": [
    "file = open(\"D:/gizem.txt\", \"r\", encoding = \"utf-8\")"
   ]
  },
  {
   "cell_type": "code",
   "execution_count": 34,
   "id": "9faf5dc3",
   "metadata": {},
   "outputs": [
    {
     "name": "stdout",
     "output_type": "stream",
     "text": [
      "merhaba yapay zeka eğitiminde 3. gün.\n"
     ]
    }
   ],
   "source": [
    "for i in file: \n",
    "    print(i)\n",
    "file.close()"
   ]
  },
  {
   "cell_type": "code",
   "execution_count": 35,
   "id": "72f29e84",
   "metadata": {},
   "outputs": [
    {
     "name": "stdout",
     "output_type": "stream",
     "text": [
      "350\n",
      "430\n",
      "500\n"
     ]
    }
   ],
   "source": [
    "liste = [215,350,68,430,479,500]\n",
    "\n",
    "for eleman in liste:\n",
    "    if eleman %10 == 0:\n",
    "        print(eleman)"
   ]
  },
  {
   "cell_type": "code",
   "execution_count": 39,
   "id": "aa281be3",
   "metadata": {},
   "outputs": [
    {
     "name": "stdout",
     "output_type": "stream",
     "text": [
      "Puan giriniz:49\n",
      "Başarısız\n"
     ]
    }
   ],
   "source": [
    "puan = int(input(\"Puan giriniz:\"))\n",
    "\n",
    "if puan<50:\n",
    "    print(\"Başarısız\")\n",
    "else :\n",
    "    print(\"Başarılı\")"
   ]
  },
  {
   "cell_type": "code",
   "execution_count": null,
   "id": "fae93a1c",
   "metadata": {},
   "outputs": [],
   "source": []
  }
 ],
 "metadata": {
  "kernelspec": {
   "display_name": "Python 3 (ipykernel)",
   "language": "python",
   "name": "python3"
  },
  "language_info": {
   "codemirror_mode": {
    "name": "ipython",
    "version": 3
   },
   "file_extension": ".py",
   "mimetype": "text/x-python",
   "name": "python",
   "nbconvert_exporter": "python",
   "pygments_lexer": "ipython3",
   "version": "3.9.13"
  }
 },
 "nbformat": 4,
 "nbformat_minor": 5
}
