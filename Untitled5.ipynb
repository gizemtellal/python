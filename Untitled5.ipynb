{
 "cells": [
  {
   "cell_type": "markdown",
   "id": "48780f57",
   "metadata": {},
   "source": [
    "# pandas kütüphanesi"
   ]
  },
  {
   "cell_type": "code",
   "execution_count": 3,
   "id": "dd35ac1f",
   "metadata": {},
   "outputs": [
    {
     "name": "stdout",
     "output_type": "stream",
     "text": [
      "0    1\n",
      "1    2\n",
      "2    3\n",
      "3    4\n",
      "4    5\n",
      "dtype: int64\n"
     ]
    }
   ],
   "source": [
    "import pandas as pd\n",
    "\n",
    "my_list = [1,2,3,4,5]\n",
    "my_series = pd.Series(my_list)\n",
    "print(my_series)"
   ]
  },
  {
   "cell_type": "code",
   "execution_count": 5,
   "id": "5d0fa004",
   "metadata": {},
   "outputs": [
    {
     "name": "stdout",
     "output_type": "stream",
     "text": [
      "     name  age\n",
      "0   Gizem   32\n",
      "1   Elvan   36\n",
      "2   Hilal   39\n",
      "3   Fethi   35\n",
      "4  Tayfun   34\n"
     ]
    }
   ],
   "source": [
    "my_dict = {\"name\": [\"Gizem\",\"Elvan\",\"Hilal\",\"Fethi\",\"Tayfun\"], \"age\": [32,36,39,35,34]}\n",
    "my_dataframe = pd.DataFrame(my_dict)\n",
    "print(my_dataframe)"
   ]
  },
  {
   "cell_type": "code",
   "execution_count": 8,
   "id": "2ad4dfca",
   "metadata": {},
   "outputs": [
    {
     "name": "stdout",
     "output_type": "stream",
     "text": [
      "   Sütun1  Sütun2  Sütun3  Sütun4\n",
      "0  PANDAS     NaN     NaN     NaN\n",
      "1      AD     NaN     NaN     NaN\n",
      "2   SOYAD     NaN     NaN     NaN\n",
      "3     TEL     NaN     NaN     NaN\n",
      "4   ADRES     NaN     NaN     NaN\n"
     ]
    }
   ],
   "source": [
    "my_dataframe = pd.read_excel(\"D:/pandas.xlsx\")\n",
    "print(my_dataframe)"
   ]
  },
  {
   "cell_type": "code",
   "execution_count": null,
   "id": "89b40bd7",
   "metadata": {},
   "outputs": [],
   "source": []
  }
 ],
 "metadata": {
  "kernelspec": {
   "display_name": "Python 3 (ipykernel)",
   "language": "python",
   "name": "python3"
  },
  "language_info": {
   "codemirror_mode": {
    "name": "ipython",
    "version": 3
   },
   "file_extension": ".py",
   "mimetype": "text/x-python",
   "name": "python",
   "nbconvert_exporter": "python",
   "pygments_lexer": "ipython3",
   "version": "3.9.13"
  }
 },
 "nbformat": 4,
 "nbformat_minor": 5
}
