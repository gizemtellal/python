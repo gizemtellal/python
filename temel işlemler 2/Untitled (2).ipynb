{
 "cells": [
  {
   "cell_type": "markdown",
   "id": "8f27477c",
   "metadata": {},
   "source": [
    "# LİSTELER"
   ]
  },
  {
   "cell_type": "markdown",
   "id": "1b587f7a",
   "metadata": {},
   "source": [
    "Bu bölümde yapacağımız işlemler şunlardır.\n",
    "   1. Liste oluşturma\n",
    "   2. İndeksleme ve parçalama\n",
    "   3. Temel Liste Metodlar ve İşlemleri\n",
    "   4. İç içe listeler"
   ]
  },
  {
   "cell_type": "markdown",
   "id": "42e6e36b",
   "metadata": {},
   "source": [
    "## Liste Oluşturma"
   ]
  },
  {
   "cell_type": "code",
   "execution_count": 10,
   "id": "a96eafe2",
   "metadata": {},
   "outputs": [
    {
     "data": {
      "text/plain": [
       "['elma', 'mandalina', 'karpuz', 'kiraz', 'muz', 'çilek']"
      ]
     },
     "execution_count": 10,
     "metadata": {},
     "output_type": "execute_result"
    }
   ],
   "source": [
    "Meyveler=[\"elma\",\"mandalina\",\"karpuz\",\"kiraz\",\"muz\",\"çilek\"]\n",
    "Meyveler"
   ]
  },
  {
   "cell_type": "code",
   "execution_count": 11,
   "id": "c00833c6",
   "metadata": {},
   "outputs": [
    {
     "data": {
      "text/plain": [
       "['1', '2', '3', '4']"
      ]
     },
     "execution_count": 11,
     "metadata": {},
     "output_type": "execute_result"
    }
   ],
   "source": [
    "Sayilar=[\"1\",\"2\",\"3\",\"4\"]\n",
    "Sayilar"
   ]
  },
  {
   "cell_type": "code",
   "execution_count": 12,
   "id": "fd501db1",
   "metadata": {},
   "outputs": [
    {
     "data": {
      "text/plain": [
       "[]"
      ]
     },
     "execution_count": 12,
     "metadata": {},
     "output_type": "execute_result"
    }
   ],
   "source": [
    "[]"
   ]
  },
  {
   "cell_type": "code",
   "execution_count": 13,
   "id": "09f32d59",
   "metadata": {},
   "outputs": [
    {
     "data": {
      "text/plain": [
       "['M', 'e', 'r', 'h', 'a', 'b', 'a']"
      ]
     },
     "execution_count": 13,
     "metadata": {},
     "output_type": "execute_result"
    }
   ],
   "source": [
    "s = \"Merhaba\"\n",
    "lst = list(s)\n",
    "lst"
   ]
  },
  {
   "cell_type": "code",
   "execution_count": 14,
   "id": "1e7857a4",
   "metadata": {},
   "outputs": [
    {
     "data": {
      "text/plain": [
       "4"
      ]
     },
     "execution_count": 14,
     "metadata": {},
     "output_type": "execute_result"
    }
   ],
   "source": [
    "# len (Ulaşım Araçları)\n",
    "liste3 = [\"uçak\",\"gemi\",\"otomobil\",\"tren\"]\n",
    "len  (liste3)"
   ]
  },
  {
   "cell_type": "code",
   "execution_count": 15,
   "id": "f7bdf61b",
   "metadata": {},
   "outputs": [
    {
     "data": {
      "text/plain": [
       "'gemi'"
      ]
     },
     "execution_count": 15,
     "metadata": {},
     "output_type": "execute_result"
    }
   ],
   "source": [
    "liste3 [1]"
   ]
  },
  {
   "cell_type": "code",
   "execution_count": 16,
   "id": "4e949e4b",
   "metadata": {},
   "outputs": [
    {
     "data": {
      "text/plain": [
       "'uçak'"
      ]
     },
     "execution_count": 16,
     "metadata": {},
     "output_type": "execute_result"
    }
   ],
   "source": [
    "liste3 [0]"
   ]
  },
  {
   "cell_type": "code",
   "execution_count": 17,
   "id": "aa5d8978",
   "metadata": {},
   "outputs": [
    {
     "data": {
      "text/plain": [
       "'otomobil'"
      ]
     },
     "execution_count": 17,
     "metadata": {},
     "output_type": "execute_result"
    }
   ],
   "source": [
    "liste3 [2]"
   ]
  },
  {
   "cell_type": "code",
   "execution_count": 18,
   "id": "8c25a794",
   "metadata": {},
   "outputs": [
    {
     "data": {
      "text/plain": [
       "'tren'"
      ]
     },
     "execution_count": 18,
     "metadata": {},
     "output_type": "execute_result"
    }
   ],
   "source": [
    "liste3 [3]"
   ]
  },
  {
   "cell_type": "code",
   "execution_count": 19,
   "id": "2aeb27a7",
   "metadata": {},
   "outputs": [
    {
     "name": "stdout",
     "output_type": "stream",
     "text": [
      "Lütfen bir sayı giriniz:25\n"
     ]
    },
    {
     "data": {
      "text/plain": [
       "'25'"
      ]
     },
     "execution_count": 19,
     "metadata": {},
     "output_type": "execute_result"
    }
   ],
   "source": [
    "input(\"Lütfen bir sayı giriniz:\")"
   ]
  },
  {
   "cell_type": "code",
   "execution_count": null,
   "id": "deb087a6",
   "metadata": {},
   "outputs": [],
   "source": [
    "a =input(\"Lütfen bir sayı giriniz.\") # Kullanıcıdan aldığımız değer a değişkeni\n",
    "print (\"Kullanıcının aldığı değer:\",a)"
   ]
  },
  {
   "cell_type": "code",
   "execution_count": 24,
   "id": "bdfb0170",
   "metadata": {},
   "outputs": [
    {
     "name": "stdout",
     "output_type": "stream",
     "text": [
      "Birinci Sayı:57\n",
      "İkinci Sayı:84\n",
      "Üçüncü Sayı:91\n",
      "Toplamları: 77\n"
     ]
    }
   ],
   "source": [
    "a = int(input(\"Birinci Sayı:\"))\n",
    "b = int(input(\"İkinci Sayı:\"))\n",
    "c = int(input(\"Üçüncü Sayı:\"))\n",
    "print(\"Toplamları:\", (a+b+c)//3)"
   ]
  },
  {
   "cell_type": "code",
   "execution_count": null,
   "id": "4fadf6d7",
   "metadata": {},
   "outputs": [],
   "source": []
  }
 ],
 "metadata": {
  "kernelspec": {
   "display_name": "Python 3 (ipykernel)",
   "language": "python",
   "name": "python3"
  },
  "language_info": {
   "codemirror_mode": {
    "name": "ipython",
    "version": 3
   },
   "file_extension": ".py",
   "mimetype": "text/x-python",
   "name": "python",
   "nbconvert_exporter": "python",
   "pygments_lexer": "ipython3",
   "version": "3.9.13"
  }
 },
 "nbformat": 4,
 "nbformat_minor": 5
}
